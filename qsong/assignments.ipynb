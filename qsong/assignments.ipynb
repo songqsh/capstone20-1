{
 "cells": [
  {
   "cell_type": "markdown",
   "metadata": {},
   "source": [
    "# Assignment 1 - Policy evaluation\n",
    "- understand value iteration from [ipynb](https://github.com/songqsh/foo1/blob/master/src/hjb_mdp_05.ipynb)\n",
    "- obtain optimal policy at the end of value iteration.\n",
    "- evaluate the value associated to the optimal policy from the previous step."
   ]
  },
  {
   "cell_type": "markdown",
   "metadata": {},
   "source": [
    "# Assinment 2 - Solving ODE by Neural Network\n",
    "- solve the following ODE explicitly:\n",
    "$$u'' - 1 = 0, u(0) = u(1) = 0.$$\n",
    "- use finite difference to obtain linear system\n",
    "- solve it by nueral network"
   ]
  },
  {
   "cell_type": "code",
   "execution_count": null,
   "metadata": {},
   "outputs": [],
   "source": []
  }
 ],
 "metadata": {
  "kernelspec": {
   "display_name": "Python 3",
   "language": "python",
   "name": "python3"
  },
  "language_info": {
   "codemirror_mode": {
    "name": "ipython",
    "version": 3
   },
   "file_extension": ".py",
   "mimetype": "text/x-python",
   "name": "python",
   "nbconvert_exporter": "python",
   "pygments_lexer": "ipython3",
   "version": "3.7.4"
  }
 },
 "nbformat": 4,
 "nbformat_minor": 2
}
