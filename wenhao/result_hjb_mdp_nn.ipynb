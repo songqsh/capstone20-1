{
  "nbformat": 4,
  "nbformat_minor": 0,
  "metadata": {
    "colab": {
      "name": "result_hjb_mdp_nn.ipynb",
      "provenance": [],
      "authorship_tag": "ABX9TyOjR3XiallY9/eJfgBZX7Ic",
      "include_colab_link": true
    },
    "kernelspec": {
      "name": "python3",
      "display_name": "Python 3"
    }
  },
  "cells": [
    {
      "cell_type": "markdown",
      "metadata": {
        "id": "view-in-github",
        "colab_type": "text"
      },
      "source": [
        "<a href=\"https://colab.research.google.com/github/wqiu96/capstone20-1/blob/master/wenhao/result_hjb_mdp_nn.ipynb\" target=\"_parent\"><img src=\"https://colab.research.google.com/assets/colab-badge.svg\" alt=\"Open In Colab\"/></a>"
      ]
    },
    {
      "cell_type": "code",
      "metadata": {
        "id": "jiVvoIS7Q0sy",
        "colab_type": "code",
        "colab": {}
      },
      "source": [
        "import numpy as np\n",
        "import time\n",
        "import torch\n",
        "import torch.nn as nn\n",
        "import random\n",
        "import matplotlib.pyplot as plt\n",
        "#import ipdb\n",
        "\n",
        "import itertools\n",
        "class Pde:\n",
        "    def __init__(self, n_dim = 2):\n",
        "        self.n_dim = n_dim    \n",
        "        self.lam = 0.\n",
        "        print('>>> n_dim: '+str(n_dim))\n",
        "    drift = lambda self,s,a: a\n",
        "    \n",
        "    run_cost = lambda self,s,a: (\n",
        "            self.n_dim + sum([s1**2 for s1 in s])*2.0 \n",
        "            + sum([a1**2 for a1 in a])/2.0\n",
        "            )\n",
        "    \n",
        "    term_cost = lambda self,s: - sum([s1**2 for s1 in s])\n",
        "    exact_soln = lambda self,s: - sum([s1**2 for s1 in s])\n",
        "\n",
        "\n",
        "class Mdp(Pde):\n",
        "    def __init__(self, n_dim = 2, n_mesh = 8):\n",
        "        super().__init__(n_dim)\n",
        "        self.n_mesh= 2*n_mesh  \n",
        "        self.h_mesh = 2./self.n_mesh #mesh size\n",
        "        self.v_shape = tuple([self.n_mesh + 1]*self.n_dim)\n",
        "        print('>>> n_mesh: '+str(self.n_mesh))\n",
        "\n",
        "\n",
        "    #input: list of index\n",
        "    #return: physicial coordinate\n",
        "    def i2s(self,ix): \n",
        "        return [x * self.h_mesh-1 for x in ix]\n",
        "    \n",
        "    def is_interior(self,ix):\n",
        "        return all(map(lambda a: 0<a<self.n_mesh, ix))\n",
        "        \n",
        "    #input: lists of index and action\n",
        "    #return: discount rate, running cost, list of next index, list of probability\n",
        "    def step(self, ix, a, fd='cfd'):\n",
        "        #ix = list(ix)\n",
        "        s = self.i2s(ix)\n",
        "        b = Pde.drift(Pde, s, a)\n",
        "        if fd=='cfd':\n",
        "            lam = self.n_dim/(self.n_dim+self.lam*(self.h_mesh**2))\n",
        "            run_cost_h = self.h_mesh**2*self.run_cost(s,a)/self.n_dim\n",
        "            \n",
        "            ix_next = []; pr_next= []\n",
        "            #cfd\n",
        "            if self.is_interior(ix):\n",
        "                for i in range(self.n_dim):\n",
        "                    ix1 = ix.copy(); ix1[i]+=1; ix_next += [ix1,]\n",
        "                    pr1 = (1+2.*self.h_mesh*b[i])/(self.n_dim*2.0) \n",
        "                    pr_next += [pr1,]\n",
        "                for i in range(self.n_dim):\n",
        "                    ix1 = ix.copy(); ix1[i]-=1; ix_next += [ix1,]\n",
        "                    pr1 = (1-2.*self.h_mesh*b[i])/(self.n_dim*2.0) \n",
        "                    pr_next += [pr1,]\n",
        "        elif fd=='ufd':\n",
        "            c = self.n_dim+sum([abs(b1) for b1 in b])*self.h_mesh\n",
        "            b_plus = [(abs(b1)+b1)/2. for b1 in b]\n",
        "            b_minus = [(abs(b1)-b1)/2. for b1 in b]\n",
        "            lam = c/(c+self.h_mesh**2*self.lam)\n",
        "            run_cost_h = self.h_mesh**2*self.run_cost(s,a)/c\n",
        "            ix_next = []; pr_next= []\n",
        "            #ufd\n",
        "            if self.is_interior(ix):\n",
        "                for i in range(self.n_dim):\n",
        "                    ix1 = ix.copy(); ix1[i]+=1; ix_next += [ix1,]\n",
        "                    pr1 = (1+2.*self.h_mesh*b_plus[i])/(c*2.0) \n",
        "                    pr_next += [pr1,]\n",
        "                for i in range(self.n_dim):\n",
        "                    ix1 = ix.copy(); ix1[i]-=1; ix_next += [ix1,]\n",
        "                    pr1 = (1-2.*self.h_mesh*b_minus[i])/(c*2.0) \n",
        "                    pr_next += [pr1,]        \n",
        "        return lam, run_cost_h, ix_next, pr_next\n",
        "    \n",
        "\n",
        " \n",
        "####################\n",
        "import itertools\n",
        "\n",
        "def deep_iter(*shape):\n",
        "    iters = (range(i) for i in shape)\n",
        "    return itertools.product(*iters)\n",
        "\n",
        "\n",
        "#product of a list\n",
        "def product(l):\n",
        "    out = 1\n",
        "    for x in l:\n",
        "        out *= x\n",
        "    return out\n",
        "    \n",
        "\n",
        "class solver_nn(Mdp):\n",
        "    def __init__(self, n_dim = 2, n_mesh = 8, fd = 'ufd'):\n",
        "        super().__init__(n_dim, n_mesh)\n",
        "        self.fd = fd\n",
        "        self.a_space = tuple([3*n_mesh+1,]*n_dim)\n",
        "        self.y_max = 0\n",
        "        self.y_min = -1\n",
        "        self.ta = 1/(self.y_max-self.y_min)\n",
        "        self.tb = -self.y_min/(self.y_max-self.y_min)\n",
        "\n",
        "    def linear_transform(self,y):\n",
        "      return self.ta*y + self.tb\n",
        "\n",
        "    def transform_back(self,y):\n",
        "      return y/self.ta - self.tb \n",
        "  \n",
        "    def i2a(self, ix):\n",
        "        ix = list(ix)\n",
        "        return [ix1*1./self.n_mesh - 1 for ix1 in ix]\n",
        "    \n",
        "    #input:\n",
        "        #list of index and action, method\n",
        "    #return:\n",
        "        #q_val assuming v is value\n",
        "    def q_val(self, ix, a, fd, v):\n",
        "        lam, run_cost_h, ix_next, pr_next = self.step(ix,a,fd)\n",
        "        out = run_cost_h\n",
        "        for ix1, pr1 in zip(ix_next, pr_next):\n",
        "          if self.is_interior(ix): \n",
        "            out+=pr1*v(torch.FloatTensor(self.i2s(ix1)))\n",
        "          else:\n",
        "            out+=pr1*self.term_cost(self.i2s(ix))\n",
        "        out *= lam\n",
        "        return out\n",
        "    \n",
        "    #minimum over action space\n",
        "    def min_a(self, fun):\n",
        "        out_ind = [0,]*self.n_dim; out_val = fun(self.i2a(out_ind))\n",
        "        for ix in deep_iter(*self.a_space):\n",
        "            temp = fun(self.i2a(ix))\n",
        "            if temp < out_val:\n",
        "                #out_ind = ix;\n",
        "                out_val = temp\n",
        "        return out_val #,out_ind\n",
        "\n",
        "    def bellman(self,ix, v):\n",
        "        #start_time = time.time()\n",
        "        s = self.i2s(ix)\n",
        "        lhs = self.linear_transform(v(torch.FloatTensor(s))); rhs = 0.\n",
        "        if self.is_interior(ix):            \n",
        "            fun = lambda a: self.q_val(list(ix), a, self.fd,v)\n",
        "            rhs = self.min_a(fun)\n",
        "            rhs = self.linear_transform(rhs)\n",
        "            res = (rhs - lhs)\n",
        "        else:\n",
        "            rhs = self.linear_transform(self.term_cost(self.i2s(ix)))\n",
        "            res = (rhs - lhs)\n",
        "        #end_time = time.time()\n",
        "        #print(end_time - start_time)\n",
        "        return res\n",
        "\n",
        "\n",
        "\n",
        "    def solver(self,n_epoch = 500):\n",
        "        ######### nn for value\n",
        "        # Linear regression model\n",
        "        value = nn.Sequential(\n",
        "            nn.Linear(self.n_dim, 2+self.n_mesh**self.n_dim),\n",
        "            #nn.functional.gelu(),\n",
        "            nn.ReLU(),\n",
        "            nn.Linear(2+self.n_mesh**self.n_dim, 2+self.n_mesh**self.n_dim),\n",
        "            nn.ReLU(),\n",
        "            nn.Linear(2+self.n_mesh**self.n_dim, 1)\n",
        "        )   \n",
        "        print(value)\n",
        "        #loss\n",
        "        def tot_loss():\n",
        "            #start_time = time.time()\n",
        "            out = 0.\n",
        "            for ix in deep_iter(*self.v_shape):\n",
        "              if self.is_interior(ix):\n",
        "                out += abs(self.bellman(ix,value))\n",
        "              else:\n",
        "                out += abs(self.linear_transform(self.term_cost(self.i2s(ix))) - self.linear_transform(value(torch.FloatTensor(self.i2s(ix)))))\n",
        "\n",
        "            #end_time = time.time()\n",
        "            #print(end_time - start_time)\n",
        "              #out += (self.linear_transform(self.term_cost(self.i2s(ix))) - self.linear_transform(value(torch.FloatTensor(self.i2s(ix)))))**2\n",
        "            return 10*out#/mdp.v_size_\n",
        "          \n",
        "        print_n = 10\n",
        "        epoch_per_print= int(n_epoch/print_n)\n",
        "        #lr = 1/(2*epoch+1000.)\n",
        "        l = []\n",
        "        start_time = time.time()\n",
        "        for epoch in range(n_epoch):\n",
        "            #ipdb.set_trace()\n",
        "            loss = tot_loss() #forward pass\n",
        "            #backward propogation\n",
        "            # optimizer\n",
        "            momentum = .65\n",
        "            #lr = 1/((epoch+200.))\n",
        "            lr = 0.007\n",
        "            if loss.item()<4:\n",
        "              lr = 0.0007\n",
        "              momentum = .75\n",
        "            if loss.item()<1:\n",
        "              lr = 0.0002\n",
        "              momentum = .85\n",
        "            if loss.item()<0.6:\n",
        "              lr = 0.00004\n",
        "              momentum = .85\n",
        "            if loss.item()<0.2:\n",
        "              lr = 0.00002\n",
        "              momentum = .85\n",
        "            optimizer = torch.optim.SGD(value.parameters(), lr, momentum = momentum) \n",
        "            #optimizer = torch.optim.SGD(value.parameters(), 0.0001, momentum = .8)\n",
        "            optimizer.zero_grad()\n",
        "            loss.backward()\n",
        "            optimizer.step()\n",
        "            l.append(loss.item())\n",
        "            if (epoch+1) % epoch_per_print == 0 or epoch == 0:\n",
        "              print('Epoch [{}/{}], Loss: {:.4f}'.format(\n",
        "                      epoch+1, n_epoch, loss.item()))\n",
        "            if loss.item()<0.0002:\n",
        "                break\n",
        "        plt.plot([i for i in range(499,len(l))],l[499:])\n",
        "        end_time = time.time()\n",
        "        print('>>>time elapsed is: ' + str(end_time - start_time))\n",
        "        return value"
      ],
      "execution_count": 0,
      "outputs": []
    },
    {
      "cell_type": "code",
      "metadata": {
        "id": "yyQeLcfLA6Ry",
        "colab_type": "code",
        "outputId": "8beefb5e-dda0-4b86-c1fd-8b3bbffcc461",
        "colab": {
          "base_uri": "https://localhost:8080/",
          "height": 636
        }
      },
      "source": [
        "vi = solver_nn(n_dim=1, n_mesh=8, fd='cfd')\n",
        "value = vi.solver(3000)\n"
      ],
      "execution_count": 0,
      "outputs": [
        {
          "output_type": "stream",
          "text": [
            ">>> n_dim: 1\n",
            ">>> n_mesh: 16\n",
            "Sequential(\n",
            "  (0): Linear(in_features=1, out_features=18, bias=True)\n",
            "  (1): ReLU()\n",
            "  (2): Linear(in_features=18, out_features=18, bias=True)\n",
            "  (3): ReLU()\n",
            "  (4): Linear(in_features=18, out_features=1, bias=True)\n",
            ")\n",
            "Epoch [1/3000], Loss: 24.6235\n",
            "Epoch [300/3000], Loss: 2.2343\n",
            "Epoch [600/3000], Loss: 1.2552\n",
            "Epoch [900/3000], Loss: 1.9271\n",
            "Epoch [1200/3000], Loss: 0.7948\n",
            "Epoch [1500/3000], Loss: 0.5333\n",
            "Epoch [1800/3000], Loss: 0.5202\n",
            "Epoch [2100/3000], Loss: 0.5059\n",
            "Epoch [2400/3000], Loss: 0.5443\n",
            "Epoch [2700/3000], Loss: 0.5232\n",
            "Epoch [3000/3000], Loss: 0.5303\n",
            ">>>time elapsed is: 469.5511631965637\n"
          ],
          "name": "stdout"
        },
        {
          "output_type": "display_data",
          "data": {
            "image/png": "[encoded data removed]",
            "text/plain": [
              "<Figure size 432x288 with 1 Axes>"
            ]
          },
          "metadata": {
            "tags": []
          }
        }
      ]
    },
    {
      "cell_type": "code",
      "metadata": {
        "id": "x9AiFc4mU27m",
        "colab_type": "code",
        "colab": {}
      },
      "source": [
        "import matplotlib.pyplot as plt\n",
        "from mpl_toolkits.mplot3d import Axes3D"
      ],
      "execution_count": 0,
      "outputs": []
    },
    {
      "cell_type": "code",
      "metadata": {
        "id": "WYXtfNq6TljM",
        "colab_type": "code",
        "outputId": "dca4cf11-e88b-465f-8be1-c31d1e48c7d0",
        "colab": {
          "base_uri": "https://localhost:8080/",
          "height": 282
        }
      },
      "source": [
        "x = []\n",
        "y = []\n",
        "y1 = []\n",
        "for ix_s in deep_iter(*vi.v_shape):\n",
        "    s1 = vi.i2s(ix_s)\n",
        "    x.append(s1)\n",
        "    #v1 = v[ix_s]\n",
        "    #v1 =vi.transform_back(value(torch.FloatTensor(s1)).item())\n",
        "    v1 = value(torch.FloatTensor(s1)).item()\n",
        "    v2 = vi.term_cost(s1)\n",
        "    y.append(v1)\n",
        "    y1.append(v2)\n",
        "plt.plot(x,y)\n",
        "plt.plot(x,y1)"
      ],
      "execution_count": 0,
      "outputs": [
        {
          "output_type": "execute_result",
          "data": {
            "text/plain": [
              "[<matplotlib.lines.Line2D at 0x7f3a0d1e8d68>]"
            ]
          },
          "metadata": {
            "tags": []
          },
          "execution_count": 7
        },
        {
          "output_type": "display_data",
          "data": {
            "image/png": "[encoded data removed]",
            "text/plain": [
              "<Figure size 432x288 with 1 Axes>"
            ]
          },
          "metadata": {
            "tags": []
          }
        }
      ]
    },
    {
      "cell_type": "code",
      "metadata": {
        "id": "dhRSdHHI1xLK",
        "colab_type": "code",
        "outputId": "f11efead-dec9-4f93-d565-1190af58a1c7",
        "colab": {
          "base_uri": "https://localhost:8080/",
          "height": 34
        }
      },
      "source": [
        "print('>>>sup norm error is: ' + str(np.max(abs(np.array(y)-np.array(y1)))))"
      ],
      "execution_count": 0,
      "outputs": [
        {
          "output_type": "stream",
          "text": [
            ">>>sup norm error is: 0.2737654447555542\n"
          ],
          "name": "stdout"
        }
      ]
    },
    {
      "cell_type": "code",
      "metadata": {
        "id": "nXsBctSof0xg",
        "colab_type": "code",
        "outputId": "14f463e4-c249-43be-9f1b-63c6aa5874d0",
        "colab": {
          "base_uri": "https://localhost:8080/",
          "height": 282
        }
      },
      "source": [
        "losss = []\n",
        "for ix in deep_iter(*vi.v_shape):\n",
        "  if vi.is_interior(ix):\n",
        "    loss = abs(vi.bellman(ix,value))\n",
        "  else:\n",
        "    loss = abs(vi.linear_transform(vi.term_cost(vi.i2s(ix))) - vi.linear_transform(value(torch.FloatTensor(vi.i2s(ix)))))\n",
        "  losss.append(loss)\n",
        "plt.plot(x,losss)"
      ],
      "execution_count": 0,
      "outputs": [
        {
          "output_type": "execute_result",
          "data": {
            "text/plain": [
              "[<matplotlib.lines.Line2D at 0x7f3a0d11c5c0>]"
            ]
          },
          "metadata": {
            "tags": []
          },
          "execution_count": 9
        },
        {
          "output_type": "display_data",
          "data": {
            "image/png": "[encoded data removed]",
            "text/plain": [
              "<Figure size 432x288 with 1 Axes>"
            ]
          },
          "metadata": {
            "tags": []
          }
        }
      ]
    }
  ]
}