{
  "nbformat": 4,
  "nbformat_minor": 0,
  "metadata": {
    "colab": {
      "name": "try_hjb_mdp_nn.ipynb",
      "provenance": [],
      "authorship_tag": "ABX9TyMLNG5OqbhwyRir0rcaF7aF",
      "include_colab_link": true
    },
    "kernelspec": {
      "name": "python3",
      "display_name": "Python 3"
    }
  },
  "cells": [
    {
      "cell_type": "markdown",
      "metadata": {
        "id": "view-in-github",
        "colab_type": "text"
      },
      "source": [
        "<a href=\"https://colab.research.google.com/github/wqiu96/capstone20-1/blob/master/wenhao/try_hjb_mdp_nn.ipynb\" target=\"_parent\"><img src=\"https://colab.research.google.com/assets/colab-badge.svg\" alt=\"Open In Colab\"/></a>"
      ]
    },
    {
      "cell_type": "code",
      "metadata": {
        "id": "jiVvoIS7Q0sy",
        "colab_type": "code",
        "colab": {}
      },
      "source": [
        "import numpy as np\n",
        "import time\n",
        "import torch\n",
        "import torch.nn as nn\n",
        "import random\n",
        "import matplotlib.pyplot as plt\n",
        "#import ipdb\n",
        "\n",
        "import itertools\n",
        "class Pde:\n",
        "    def __init__(self, n_dim = 2):\n",
        "        self.n_dim = n_dim    \n",
        "        self.lam = 0.\n",
        "        print('>>> n_dim: '+str(n_dim))\n",
        "    drift = lambda self,s,a: a\n",
        "    \n",
        "    run_cost = lambda self,s,a: (\n",
        "            self.n_dim + sum([s1**2 for s1 in s])*2.0 \n",
        "            + sum([a1**2 for a1 in a])/2.0\n",
        "            )\n",
        "    \n",
        "    term_cost = lambda self,s: - sum([s1**2 for s1 in s])\n",
        "    exact_soln = lambda self,s: - sum([s1**2 for s1 in s])\n",
        "\n",
        "\n",
        "class Mdp(Pde):\n",
        "    def __init__(self, n_dim = 2, n_mesh = 8):\n",
        "        super().__init__(n_dim)\n",
        "        self.n_mesh= 2*n_mesh  \n",
        "        self.h_mesh = 2./self.n_mesh #mesh size\n",
        "        self.v_shape = tuple([self.n_mesh + 1]*self.n_dim)\n",
        "        print('>>> n_mesh: '+str(self.n_mesh))\n",
        "\n",
        "\n",
        "    #input: list of index\n",
        "    #return: physicial coordinate\n",
        "    def i2s(self,ix): \n",
        "        return [x * self.h_mesh-1 for x in ix]\n",
        "    \n",
        "    def is_interior(self,ix):\n",
        "        return all(map(lambda a: 0<a<self.n_mesh, ix))\n",
        "        \n",
        "    #input: lists of index and action\n",
        "    #return: discount rate, running cost, list of next index, list of probability\n",
        "    def step(self, ix, a, fd='cfd'):\n",
        "        #ix = list(ix)\n",
        "        s = self.i2s(ix)\n",
        "        b = Pde.drift(Pde, s, a)\n",
        "        if fd=='cfd':\n",
        "            lam = self.n_dim/(self.n_dim+self.lam*(self.h_mesh**2))\n",
        "            run_cost_h = self.h_mesh**2*self.run_cost(s,a)/self.n_dim\n",
        "            \n",
        "            ix_next = []; pr_next= []\n",
        "            #cfd\n",
        "            if self.is_interior(ix):\n",
        "                for i in range(self.n_dim):\n",
        "                    ix1 = ix.copy(); ix1[i]+=1; ix_next += [ix1,]\n",
        "                    pr1 = (1+2.*self.h_mesh*b[i])/(self.n_dim*2.0) \n",
        "                    pr_next += [pr1,]\n",
        "                for i in range(self.n_dim):\n",
        "                    ix1 = ix.copy(); ix1[i]-=1; ix_next += [ix1,]\n",
        "                    pr1 = (1-2.*self.h_mesh*b[i])/(self.n_dim*2.0) \n",
        "                    pr_next += [pr1,]\n",
        "        elif fd=='ufd':\n",
        "            c = self.n_dim+sum([abs(b1) for b1 in b])*self.h_mesh\n",
        "            b_plus = [(abs(b1)+b1)/2. for b1 in b]\n",
        "            b_minus = [(abs(b1)-b1)/2. for b1 in b]\n",
        "            lam = c/(c+self.h_mesh**2*self.lam)\n",
        "            run_cost_h = self.h_mesh**2*self.run_cost(s,a)/c\n",
        "            ix_next = []; pr_next= []\n",
        "            #ufd\n",
        "            if self.is_interior(ix):\n",
        "                for i in range(self.n_dim):\n",
        "                    ix1 = ix.copy(); ix1[i]+=1; ix_next += [ix1,]\n",
        "                    pr1 = (1+2.*self.h_mesh*b_plus[i])/(c*2.0) \n",
        "                    pr_next += [pr1,]\n",
        "                for i in range(self.n_dim):\n",
        "                    ix1 = ix.copy(); ix1[i]-=1; ix_next += [ix1,]\n",
        "                    pr1 = (1-2.*self.h_mesh*b_minus[i])/(c*2.0) \n",
        "                    pr_next += [pr1,]        \n",
        "        return lam, run_cost_h, ix_next, pr_next\n",
        "    \n",
        "\n",
        " \n",
        "####################\n",
        "import itertools\n",
        "\n",
        "def deep_iter(*shape):\n",
        "    iters = (range(i) for i in shape)\n",
        "    return itertools.product(*iters)\n",
        "\n",
        "\n",
        "#product of a list\n",
        "def product(l):\n",
        "    out = 1\n",
        "    for x in l:\n",
        "        out *= x\n",
        "    return out\n",
        "    \n",
        "\n",
        "class solver_nn(Mdp):\n",
        "    def __init__(self, n_dim = 2, n_mesh = 8, fd = 'ufd'):\n",
        "        super().__init__(n_dim, n_mesh)\n",
        "        self.fd = fd\n",
        "        self.a_space = tuple([3*n_mesh+1,]*n_dim)\n",
        "        self.y_max = 0\n",
        "        self.y_min = -1\n",
        "        self.ta = 1/(self.y_max-self.y_min)\n",
        "        self.tb = -self.y_min/(self.y_max-self.y_min)\n",
        "\n",
        "    def linear_transform(self,y):\n",
        "      return self.ta*y + self.tb\n",
        "\n",
        "    def transform_back(self,y):\n",
        "      return y/self.ta - self.tb \n",
        "  \n",
        "    def i2a(self, ix):\n",
        "        ix = list(ix)\n",
        "        return [ix1*1./self.n_mesh - 1 for ix1 in ix]\n",
        "    \n",
        "    #input:\n",
        "        #list of index and action, method\n",
        "    #return:\n",
        "        #q_val assuming v is value\n",
        "    def q_val(self, ix, a, fd, v):\n",
        "        lam, run_cost_h, ix_next, pr_next = self.step(ix,a,fd)\n",
        "        out = run_cost_h\n",
        "        for ix1, pr1 in zip(ix_next, pr_next):\n",
        "          if self.is_interior(ix): \n",
        "            out+=pr1*v(torch.FloatTensor(self.i2s(ix1)))\n",
        "          else:\n",
        "            out+=pr1*self.term_cost(self.i2s(ix))\n",
        "        out *= lam\n",
        "        return out\n",
        "    \n",
        "    #minimum over action space\n",
        "    def min_a(self, fun):\n",
        "        out_ind = [0,]*self.n_dim; out_val = fun(self.i2a(out_ind))\n",
        "        for ix in deep_iter(*self.a_space):\n",
        "            temp = fun(self.i2a(ix))\n",
        "            if temp < out_val:\n",
        "                #out_ind = ix;\n",
        "                out_val = temp\n",
        "        return out_val #,out_ind\n",
        "\n",
        "    def bellman(self,ix, v):\n",
        "        #start_time = time.time()\n",
        "        s = self.i2s(ix)\n",
        "        lhs = self.linear_transform(v(torch.FloatTensor(s))); rhs = 0.\n",
        "        if self.is_interior(ix):            \n",
        "            fun = lambda a: self.q_val(list(ix), a, self.fd,v)\n",
        "            rhs = self.min_a(fun)\n",
        "            rhs = self.linear_transform(rhs)\n",
        "            res = (rhs - lhs)\n",
        "        else:\n",
        "            rhs = self.linear_transform(self.term_cost(self.i2s(ix)))\n",
        "            res = (rhs - lhs)\n",
        "        #end_time = time.time()\n",
        "        #print(end_time - start_time)\n",
        "        return res\n",
        "\n",
        "\n",
        "\n",
        "    def solver(self,n_epoch = 500):\n",
        "        ######### nn for value\n",
        "        # Linear regression model\n",
        "        value = nn.Sequential(\n",
        "            nn.Linear(self.n_dim, 2+self.n_mesh**self.n_dim),\n",
        "            #nn.functional.gelu(),\n",
        "            nn.ReLU(),\n",
        "            nn.Linear(2+self.n_mesh**self.n_dim, 2+self.n_mesh**self.n_dim),\n",
        "            nn.ReLU(),\n",
        "            nn.Linear(2+self.n_mesh**self.n_dim, 1)\n",
        "        )  \n",
        "        for m in value:\n",
        "          if isinstance(m, nn.Linear):\n",
        "            nn.init.xavier_uniform_(m.weight)\n",
        "            nn.init.constant_(m.bias, 0)\n",
        "            print(m.weight,m.bias)\n",
        "        print(value)\n",
        "        #loss\n",
        "        def tot_loss():\n",
        "            #start_time = time.time()\n",
        "            out = 0.\n",
        "            for ix in deep_iter(*self.v_shape):\n",
        "              if self.is_interior(ix):\n",
        "                out += abs(self.bellman(ix,value))\n",
        "              else:\n",
        "                out += abs(self.linear_transform(self.term_cost(self.i2s(ix))) - self.linear_transform(value(torch.FloatTensor(self.i2s(ix)))))\n",
        "\n",
        "            #end_time = time.time()\n",
        "            #print(end_time - start_time)\n",
        "              #out += (self.linear_transform(self.term_cost(self.i2s(ix))) - self.linear_transform(value(torch.FloatTensor(self.i2s(ix)))))**2\n",
        "            return 10*out#/mdp.v_size_\n",
        "          \n",
        "        print_n = 10\n",
        "        epoch_per_print= int(n_epoch/print_n)\n",
        "        #lr = 1/(2*epoch+1000.)\n",
        "        l = []\n",
        "        start_time = time.time()\n",
        "        for epoch in range(n_epoch//2):\n",
        "            #ipdb.set_trace()\n",
        "            loss = tot_loss() #forward pass\n",
        "            #backward propogation\n",
        "            # optimizer\n",
        "            momentum = .65\n",
        "            #lr = 1/((epoch+200.))\n",
        "            lr = 0.007\n",
        "            if loss.item()<4:\n",
        "              lr = 0.0007\n",
        "              momentum = .75\n",
        "            if loss.item()<1:\n",
        "              lr = 0.0002\n",
        "              momentum = .85\n",
        "            if loss.item()<0.8:\n",
        "              lr = 0.00004\n",
        "              momentum = .85\n",
        "            if loss.item()<0.2:\n",
        "              lr = 0.00002\n",
        "              momentum = .9\n",
        "            optimizer = torch.optim.SGD(value.parameters(), lr, momentum = momentum) \n",
        "            #optimizer = torch.optim.SGD(value.parameters(), 0.0001, momentum = .8)\n",
        "            optimizer.zero_grad()\n",
        "            loss.backward()\n",
        "            optimizer.step()\n",
        "            l.append(loss.item())\n",
        "            if (epoch+1) % epoch_per_print == 0 or epoch == 0:\n",
        "              print('Epoch [{}/{}], Loss: {:.4f}'.format(\n",
        "                      epoch+1, n_epoch, loss.item()))\n",
        "            if loss.item()<0.0002:\n",
        "                break\n",
        "        premax = 0\n",
        "        for epoch in range(n_epoch//3,n_epoch):\n",
        "            #ipdb.set_trace()\n",
        "             #forward pass\n",
        "            #backward propogation\n",
        "            # optimizer\n",
        "            ls_max = 0.08\n",
        "            for ix in deep_iter(*self.v_shape):\n",
        "              if self.is_interior(ix):\n",
        "                loss = 16*abs(self.bellman(ix,value))\n",
        "              else:\n",
        "                loss = 16*abs(self.linear_transform(self.term_cost(self.i2s(ix))) - self.linear_transform(value(torch.FloatTensor(self.i2s(ix)))))\n",
        "              if loss.item()<ls_max or loss.item()<premax/3:\n",
        "                continue\n",
        "              optimizer = torch.optim.SGD(value.parameters(), 0.0001, momentum =0.9) \n",
        "              optimizer.zero_grad()\n",
        "              loss.backward()\n",
        "              optimizer.step()\n",
        "              l.append(loss.item())\n",
        "              if loss.item() > premax:\n",
        "                premax = loss.item()\n",
        "            if (epoch+1) % epoch_per_print == 0 or epoch == 0:\n",
        "              print('Epoch [{}/{}], Loss: {:.4f}'.format(\n",
        "                      epoch+1, n_epoch, loss.item()))\n",
        "        print(premax)\n",
        "        plt.plot([i for i in range(499,len(l))],l[499:])\n",
        "        end_time = time.time()\n",
        "        print('>>>time elapsed is: ' + str(end_time - start_time))\n",
        "        return value"
      ],
      "execution_count": 0,
      "outputs": []
    },
    {
      "cell_type": "code",
      "metadata": {
        "id": "yyQeLcfLA6Ry",
        "colab_type": "code",
        "outputId": "7904bb5f-f75c-4aa3-b18f-8560140359ab",
        "colab": {
          "base_uri": "https://localhost:8080/",
          "height": 1000
        }
      },
      "source": [
        "vi = solver_nn(n_dim=1, n_mesh=8, fd='cfd')\n",
        "value = vi.solver(6000)\n"
      ],
      "execution_count": 2,
      "outputs": [
        {
          "output_type": "stream",
          "text": [
            ">>> n_dim: 1\n",
            ">>> n_mesh: 16\n",
            "Parameter containing:\n",
            "tensor([[ 0.2577],\n",
            "        [ 0.1407],\n",
            "        [-0.0451],\n",
            "        [ 0.1278],\n",
            "        [ 0.1300],\n",
            "        [-0.0628],\n",
            "        [-0.1604],\n",
            "        [ 0.3703],\n",
            "        [ 0.0186],\n",
            "        [ 0.5428],\n",
            "        [ 0.2318],\n",
            "        [ 0.1976],\n",
            "        [ 0.3992],\n",
            "        [ 0.4636],\n",
            "        [-0.2945],\n",
            "        [-0.2828],\n",
            "        [-0.5587],\n",
            "        [-0.4415]], requires_grad=True) Parameter containing:\n",
            "tensor([0., 0., 0., 0., 0., 0., 0., 0., 0., 0., 0., 0., 0., 0., 0., 0., 0., 0.],\n",
            "       requires_grad=True)\n",
            "Parameter containing:\n",
            "tensor([[ 0.2179, -0.0676,  0.2117, -0.1651,  0.2211, -0.1237,  0.0555,  0.1930,\n",
            "         -0.2363,  0.3210, -0.1020, -0.2877, -0.2471, -0.2477,  0.1569,  0.3510,\n",
            "          0.2331,  0.3486],\n",
            "        [ 0.4064,  0.0615, -0.3877, -0.3239,  0.2975, -0.0964,  0.1348, -0.2219,\n",
            "          0.1693,  0.1509,  0.2189,  0.3853, -0.3849, -0.1622,  0.1615, -0.2623,\n",
            "          0.1598,  0.2004],\n",
            "        [-0.2011, -0.2460, -0.3923,  0.1467,  0.0663, -0.2781,  0.2987,  0.2405,\n",
            "          0.1965,  0.3259,  0.1794,  0.2601,  0.0575, -0.3677, -0.0877,  0.0715,\n",
            "          0.0942,  0.2000],\n",
            "        [-0.3246, -0.3177,  0.4013, -0.1128, -0.0716,  0.0461,  0.3407, -0.1453,\n",
            "         -0.2152, -0.0056, -0.3370, -0.1760, -0.1790, -0.0500,  0.1836,  0.4031,\n",
            "         -0.3724, -0.0712],\n",
            "        [-0.1539,  0.1666, -0.1435, -0.0720, -0.2906,  0.2019, -0.0061, -0.2375,\n",
            "          0.2417, -0.3428,  0.3028, -0.0417, -0.0944, -0.0659, -0.2536, -0.3802,\n",
            "         -0.3636, -0.1957],\n",
            "        [-0.1456,  0.3587,  0.2083, -0.3492, -0.3788, -0.2407, -0.1320,  0.2607,\n",
            "          0.2900,  0.1558,  0.1525, -0.2081, -0.3074, -0.1420, -0.0280, -0.0547,\n",
            "          0.0442, -0.1646],\n",
            "        [-0.1436,  0.1007,  0.2958,  0.2614, -0.2994, -0.0466, -0.2106, -0.3641,\n",
            "          0.1906,  0.0452,  0.0508, -0.3123,  0.3340,  0.3543, -0.2869,  0.3479,\n",
            "          0.2369, -0.0227],\n",
            "        [-0.2599,  0.1558,  0.0115,  0.1165,  0.1375, -0.0788, -0.3031,  0.0298,\n",
            "         -0.0913, -0.2873,  0.1682,  0.1302, -0.2139, -0.2697, -0.1133,  0.0018,\n",
            "         -0.1618,  0.1975],\n",
            "        [-0.1078, -0.3496,  0.3953,  0.0116, -0.1611, -0.1975, -0.0445, -0.3034,\n",
            "         -0.1013, -0.0673,  0.0588,  0.2441,  0.3256,  0.1066,  0.1713,  0.1054,\n",
            "         -0.0047,  0.0471],\n",
            "        [ 0.0955, -0.3934,  0.1975,  0.2004, -0.2513,  0.0585,  0.2427, -0.2402,\n",
            "          0.3120, -0.4023, -0.3521, -0.2667, -0.3734,  0.3080, -0.1959,  0.2105,\n",
            "          0.0975, -0.0916],\n",
            "        [-0.0841, -0.0045, -0.1995, -0.1772,  0.3919,  0.3026,  0.1162,  0.1661,\n",
            "         -0.0656, -0.0164, -0.3838, -0.1168,  0.1847,  0.0221, -0.3699, -0.1113,\n",
            "          0.3540, -0.1847],\n",
            "        [-0.1571, -0.2127, -0.2907,  0.3559,  0.1406, -0.3467, -0.1042,  0.0706,\n",
            "          0.2819,  0.0919,  0.0846,  0.0517, -0.3788, -0.2201, -0.0634, -0.1215,\n",
            "         -0.1336,  0.1544],\n",
            "        [-0.0156,  0.0612, -0.0089,  0.2845, -0.2651, -0.3131, -0.2412, -0.3816,\n",
            "         -0.0154, -0.0522,  0.1184,  0.4000,  0.1857, -0.0044, -0.0919,  0.0161,\n",
            "         -0.3432,  0.3507],\n",
            "        [ 0.3525,  0.1499, -0.1345,  0.2825,  0.1415,  0.3172, -0.2574,  0.3583,\n",
            "          0.1421, -0.1058, -0.3620,  0.0150, -0.2839,  0.1966,  0.2331,  0.3111,\n",
            "         -0.3356,  0.3878],\n",
            "        [-0.3747,  0.2415, -0.1743,  0.3868, -0.2434, -0.2980, -0.2234, -0.2940,\n",
            "         -0.3761, -0.0675,  0.3212,  0.2477, -0.3398, -0.3669,  0.3323, -0.0168,\n",
            "         -0.3046, -0.0347],\n",
            "        [-0.3780, -0.0409, -0.2003, -0.2036,  0.1501, -0.1666, -0.3812, -0.3423,\n",
            "          0.3863,  0.2867,  0.2002, -0.1008,  0.2388,  0.3785,  0.1619,  0.3301,\n",
            "          0.1981, -0.1402],\n",
            "        [ 0.1035,  0.1172, -0.0292, -0.1228, -0.0700, -0.2724, -0.2030,  0.3859,\n",
            "         -0.1656,  0.2706, -0.2475,  0.0817,  0.1543, -0.2768,  0.0631, -0.2178,\n",
            "         -0.2276,  0.3531],\n",
            "        [-0.0456, -0.0232, -0.0800, -0.2231, -0.1176, -0.0857, -0.3557,  0.0765,\n",
            "         -0.1863, -0.2293,  0.0037, -0.3246, -0.3796,  0.1533, -0.1429,  0.2223,\n",
            "         -0.0053,  0.0125]], requires_grad=True) Parameter containing:\n",
            "tensor([0., 0., 0., 0., 0., 0., 0., 0., 0., 0., 0., 0., 0., 0., 0., 0., 0., 0.],\n",
            "       requires_grad=True)\n",
            "Parameter containing:\n",
            "tensor([[ 0.3133, -0.1971,  0.5248,  0.0456, -0.3229, -0.5503,  0.0225,  0.0208,\n",
            "          0.4113,  0.2407,  0.1501,  0.0176,  0.5448,  0.2640, -0.2068,  0.4585,\n",
            "          0.2509, -0.0218]], requires_grad=True) Parameter containing:\n",
            "tensor([0.], requires_grad=True)\n",
            "Sequential(\n",
            "  (0): Linear(in_features=1, out_features=18, bias=True)\n",
            "  (1): ReLU()\n",
            "  (2): Linear(in_features=18, out_features=18, bias=True)\n",
            "  (3): ReLU()\n",
            "  (4): Linear(in_features=18, out_features=1, bias=True)\n",
            ")\n",
            "Epoch [1/6000], Loss: 29.7966\n",
            "Epoch [600/6000], Loss: 3.5804\n",
            "Epoch [1200/6000], Loss: 2.4636\n",
            "Epoch [1800/6000], Loss: 1.9093\n",
            "Epoch [2400/6000], Loss: 2.2886\n",
            "Epoch [3000/6000], Loss: 1.4453\n",
            "Epoch [2400/6000], Loss: 0.1364\n",
            "Epoch [3000/6000], Loss: 0.2400\n",
            "Epoch [3600/6000], Loss: 0.2447\n",
            "Epoch [4200/6000], Loss: 0.1604\n",
            "Epoch [4800/6000], Loss: 0.1358\n",
            "Epoch [5400/6000], Loss: 0.1369\n",
            "Epoch [6000/6000], Loss: 0.2449\n",
            "0.7280464172363281\n",
            ">>>time elapsed is: 1275.5089123249054\n"
          ],
          "name": "stdout"
        },
        {
          "output_type": "display_data",
          "data": {
            "image/png": "[encoded data removed]",
            "text/plain": [
              "<Figure size 432x288 with 1 Axes>"
            ]
          },
          "metadata": {
            "tags": []
          }
        }
      ]
    },
    {
      "cell_type": "code",
      "metadata": {
        "id": "x9AiFc4mU27m",
        "colab_type": "code",
        "colab": {}
      },
      "source": [
        "import matplotlib.pyplot as plt\n",
        "from mpl_toolkits.mplot3d import Axes3D"
      ],
      "execution_count": 0,
      "outputs": []
    },
    {
      "cell_type": "code",
      "metadata": {
        "id": "WYXtfNq6TljM",
        "colab_type": "code",
        "outputId": "1a8f0a69-947b-43a9-bf7c-4f4e6c7df645",
        "colab": {
          "base_uri": "https://localhost:8080/",
          "height": 282
        }
      },
      "source": [
        "x = []\n",
        "y = []\n",
        "y1 = []\n",
        "for ix_s in deep_iter(*vi.v_shape):\n",
        "    s1 = vi.i2s(ix_s)\n",
        "    x.append(s1)\n",
        "    #v1 = v[ix_s]\n",
        "    #v1 =vi.transform_back(value(torch.FloatTensor(s1)).item())\n",
        "    v1 = value(torch.FloatTensor(s1)).item()\n",
        "    v2 = vi.term_cost(s1)\n",
        "    y.append(v1)\n",
        "    y1.append(v2)\n",
        "plt.plot(x,y)\n",
        "plt.plot(x,y1)"
      ],
      "execution_count": 4,
      "outputs": [
        {
          "output_type": "execute_result",
          "data": {
            "text/plain": [
              "[<matplotlib.lines.Line2D at 0x7f55c7937ba8>]"
            ]
          },
          "metadata": {
            "tags": []
          },
          "execution_count": 4
        },
        {
          "output_type": "display_data",
          "data": {
            "image/png": "[encoded data removed]",
            "text/plain": [
              "<Figure size 432x288 with 1 Axes>"
            ]
          },
          "metadata": {
            "tags": []
          }
        }
      ]
    },
    {
      "cell_type": "code",
      "metadata": {
        "id": "dhRSdHHI1xLK",
        "colab_type": "code",
        "outputId": "8de78aa1-c706-4232-aff9-0ce1aa8f048d",
        "colab": {
          "base_uri": "https://localhost:8080/",
          "height": 34
        }
      },
      "source": [
        "print('>>>sup norm error is: ' + str(np.max(abs(np.array(y)-np.array(y1)))))"
      ],
      "execution_count": 5,
      "outputs": [
        {
          "output_type": "stream",
          "text": [
            ">>>sup norm error is: 0.16493964195251465\n"
          ],
          "name": "stdout"
        }
      ]
    },
    {
      "cell_type": "code",
      "metadata": {
        "id": "hnD0dK58MNze",
        "colab_type": "code",
        "outputId": "dcf6847f-4e82-41f8-a3f6-e28d529cac79",
        "colab": {
          "base_uri": "https://localhost:8080/",
          "height": 297
        }
      },
      "source": [
        "losss = []\n",
        "for ix in deep_iter(*vi.v_shape):\n",
        "  if vi.is_interior(ix):\n",
        "    loss = abs(vi.bellman(ix,value))\n",
        "  else:\n",
        "    loss = abs(vi.linear_transform(vi.term_cost(vi.i2s(ix))) - vi.linear_transform(value(torch.FloatTensor(vi.i2s(ix)))))\n",
        "  losss.append(loss.item())\n",
        "plt.scatter(x,losss)\n",
        "plt.xlabel('x')\n",
        "plt.ylabel('Loss')"
      ],
      "execution_count": 8,
      "outputs": [
        {
          "output_type": "execute_result",
          "data": {
            "text/plain": [
              "Text(0, 0.5, 'Loss')"
            ]
          },
          "metadata": {
            "tags": []
          },
          "execution_count": 8
        },
        {
          "output_type": "display_data",
          "data": {
            "image/png": "[encoded data removed]",
            "text/plain": [
              "<Figure size 432x288 with 1 Axes>"
            ]
          },
          "metadata": {
            "tags": []
          }
        }
      ]
    }
  ]
}