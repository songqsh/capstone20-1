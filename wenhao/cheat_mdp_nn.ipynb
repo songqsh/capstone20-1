{
  "nbformat": 4,
  "nbformat_minor": 0,
  "metadata": {
    "colab": {
      "name": "cheat_mdp_nn.ipynb",
      "provenance": [],
      "authorship_tag": "ABX9TyPcNVilTDJRPzQfbY7UJ3S6",
      "include_colab_link": true
    },
    "kernelspec": {
      "name": "python3",
      "display_name": "Python 3"
    }
  },
  "cells": [
    {
      "cell_type": "markdown",
      "metadata": {
        "id": "view-in-github",
        "colab_type": "text"
      },
      "source": [
        "<a href=\"https://colab.research.google.com/github/wqiu96/capstone20-1/blob/master/wenhao/cheat_mdp_nn.ipynb\" target=\"_parent\"><img src=\"https://colab.research.google.com/assets/colab-badge.svg\" alt=\"Open In Colab\"/></a>"
      ]
    },
    {
      "cell_type": "code",
      "metadata": {
        "id": "jiVvoIS7Q0sy",
        "colab_type": "code",
        "colab": {}
      },
      "source": [
        "import numpy as np\n",
        "import time\n",
        "import torch\n",
        "import torch.nn as nn\n",
        "import random\n",
        "import matplotlib.pyplot as plt\n",
        "#import ipdb\n",
        "\n",
        "import itertools\n",
        "class Pde:\n",
        "    def __init__(self, n_dim = 2):\n",
        "        self.n_dim = n_dim    \n",
        "        self.lam = 0.\n",
        "        print('>>> n_dim: '+str(n_dim))\n",
        "    drift = lambda self,s,a: a\n",
        "    \n",
        "    run_cost = lambda self,s,a: (\n",
        "            self.n_dim + sum([s1**2 for s1 in s])*2.0 \n",
        "            + sum([a1**2 for a1 in a])/2.0\n",
        "            )\n",
        "    \n",
        "    term_cost = lambda self,s: - sum([s1**2 for s1 in s])\n",
        "    exact_soln = lambda self,s: - sum([s1**2 for s1 in s])\n",
        "\n",
        "\n",
        "class Mdp(Pde):\n",
        "    def __init__(self, n_dim = 2, n_mesh = 8):\n",
        "        super().__init__(n_dim)\n",
        "        self.n_mesh= 2*n_mesh  \n",
        "        self.h_mesh = 2./self.n_mesh #mesh size\n",
        "        self.v_shape = tuple([self.n_mesh + 1]*self.n_dim)\n",
        "        print('>>> n_mesh: '+str(self.n_mesh))\n",
        "\n",
        "\n",
        "    #input: list of index\n",
        "    #return: physicial coordinate\n",
        "    def i2s(self,ix): \n",
        "        return [x * self.h_mesh-1 for x in ix]\n",
        "    \n",
        "    def is_interior(self,ix):\n",
        "        return all(map(lambda a: 0<a<self.n_mesh, ix))\n",
        "        \n",
        "    #input: lists of index and action\n",
        "    #return: discount rate, running cost, list of next index, list of probability\n",
        "    def step(self, ix, a, fd='cfd'):\n",
        "        #ix = list(ix)\n",
        "        s = self.i2s(ix)\n",
        "        b = Pde.drift(Pde, s, a)\n",
        "        if fd=='cfd':\n",
        "            lam = self.n_dim/(self.n_dim+self.lam*(self.h_mesh**2))\n",
        "            run_cost_h = self.h_mesh**2*self.run_cost(s,a)/self.n_dim\n",
        "            \n",
        "            ix_next = []; pr_next= []\n",
        "            #cfd\n",
        "            if self.is_interior(ix):\n",
        "                for i in range(self.n_dim):\n",
        "                    ix1 = ix.copy(); ix1[i]+=1; ix_next += [ix1,]\n",
        "                    pr1 = (1+2.*self.h_mesh*b[i])/(self.n_dim*2.0) \n",
        "                    pr_next += [pr1,]\n",
        "                for i in range(self.n_dim):\n",
        "                    ix1 = ix.copy(); ix1[i]-=1; ix_next += [ix1,]\n",
        "                    pr1 = (1-2.*self.h_mesh*b[i])/(self.n_dim*2.0) \n",
        "                    pr_next += [pr1,]\n",
        "        elif fd=='ufd':\n",
        "            c = self.n_dim+sum([abs(b1) for b1 in b])*self.h_mesh\n",
        "            b_plus = [(abs(b1)+b1)/2. for b1 in b]\n",
        "            b_minus = [(abs(b1)-b1)/2. for b1 in b]\n",
        "            lam = c/(c+self.h_mesh**2*self.lam)\n",
        "            run_cost_h = self.h_mesh**2*self.run_cost(s,a)/c\n",
        "            ix_next = []; pr_next= []\n",
        "            #ufd\n",
        "            if self.is_interior(ix):\n",
        "                for i in range(self.n_dim):\n",
        "                    ix1 = ix.copy(); ix1[i]+=1; ix_next += [ix1,]\n",
        "                    pr1 = (1+2.*self.h_mesh*b_plus[i])/(c*2.0) \n",
        "                    pr_next += [pr1,]\n",
        "                for i in range(self.n_dim):\n",
        "                    ix1 = ix.copy(); ix1[i]-=1; ix_next += [ix1,]\n",
        "                    pr1 = (1-2.*self.h_mesh*b_minus[i])/(c*2.0) \n",
        "                    pr_next += [pr1,]        \n",
        "        return lam, run_cost_h, ix_next, pr_next\n",
        "    \n",
        "\n",
        " \n",
        "####################\n",
        "import itertools\n",
        "\n",
        "def deep_iter(*shape):\n",
        "    iters = (range(i) for i in shape)\n",
        "    return itertools.product(*iters)\n",
        "\n",
        "\n",
        "#product of a list\n",
        "def product(l):\n",
        "    out = 1\n",
        "    for x in l:\n",
        "        out *= x\n",
        "    return out\n",
        "    \n",
        "\n",
        "class solver_nn(Mdp):\n",
        "    def __init__(self, n_dim = 2, n_mesh = 8, fd = 'ufd'):\n",
        "        super().__init__(n_dim, n_mesh)\n",
        "        self.fd = fd\n",
        "        self.a_space = tuple([3*n_mesh+1,]*n_dim)\n",
        "        self.y_max = 0\n",
        "        self.y_min = -1\n",
        "        self.ta = 1/(self.y_max-self.y_min)\n",
        "        self.tb = -self.y_min/(self.y_max-self.y_min)\n",
        "\n",
        "    def linear_transform(self,y):\n",
        "      return self.ta*y + self.tb\n",
        "\n",
        "    def transform_back(self,y):\n",
        "      return y/self.ta - self.tb \n",
        "  \n",
        "    def i2a(self, ix):\n",
        "        ix = list(ix)\n",
        "        return [ix1*1./self.n_mesh - 1 for ix1 in ix]\n",
        "    \n",
        "    #input:\n",
        "        #list of index and action, method\n",
        "    #return:\n",
        "        #q_val assuming v is value\n",
        "    def q_val(self, ix, a, fd, v):\n",
        "        lam, run_cost_h, ix_next, pr_next = self.step(ix,a,fd)\n",
        "        out = run_cost_h\n",
        "        for ix1, pr1 in zip(ix_next, pr_next):\n",
        "          if self.is_interior(ix): \n",
        "            out+=pr1*v(torch.FloatTensor(self.i2s(ix1)))\n",
        "          else:\n",
        "            out+=pr1*self.term_cost(self.i2s(ix))\n",
        "        out *= lam\n",
        "        return out\n",
        "    \n",
        "    #minimum over action space\n",
        "    def min_a(self, fun):\n",
        "        out_ind = [0,]*self.n_dim; out_val = fun(self.i2a(out_ind))\n",
        "        for ix in deep_iter(*self.a_space):\n",
        "            temp = fun(self.i2a(ix))\n",
        "            if temp < out_val:\n",
        "                #out_ind = ix;\n",
        "                out_val = temp\n",
        "        return out_val #,out_ind\n",
        "\n",
        "    def bellman(self,ix, v):\n",
        "        #start_time = time.time()\n",
        "        s = self.i2s(ix)\n",
        "        lhs = self.linear_transform(v(torch.FloatTensor(s))); rhs = 0.\n",
        "        if self.is_interior(ix):            \n",
        "            fun = lambda a: self.q_val(list(ix), a, self.fd,v)\n",
        "            rhs = self.min_a(fun)\n",
        "            rhs = self.linear_transform(rhs)\n",
        "            res = (rhs - lhs)\n",
        "        else:\n",
        "            rhs = self.linear_transform(self.term_cost(self.i2s(ix)))\n",
        "            res = (rhs - lhs)\n",
        "        #end_time = time.time()\n",
        "        #print(end_time - start_time)\n",
        "        return res\n",
        "\n",
        "\n",
        "\n",
        "    def solver(self,n_epoch = 500):\n",
        "        ######### nn for value\n",
        "        # Linear regression model\n",
        "        value = nn.Sequential(\n",
        "            nn.Linear(self.n_dim, 2+self.n_mesh**self.n_dim),\n",
        "            #nn.functional.gelu(),\n",
        "            nn.ReLU(),\n",
        "            nn.Linear(2+self.n_mesh**self.n_dim, 2+self.n_mesh**self.n_dim),\n",
        "            nn.ReLU(),\n",
        "            nn.Linear(2+self.n_mesh**self.n_dim, 1)\n",
        "        )  \n",
        "        for m in value:\n",
        "          if isinstance(m, nn.Linear):\n",
        "            nn.init.xavier_uniform_(m.weight)\n",
        "            nn.init.constant_(m.bias, 0)\n",
        "            print(m.weight,m.bias)\n",
        "        print(value)\n",
        "        #loss\n",
        "        def tot_loss():\n",
        "            #start_time = time.time()\n",
        "            out = 0.\n",
        "            for ix in deep_iter(*self.v_shape):\n",
        "              out += (self.linear_transform(self.term_cost(self.i2s(ix))) - self.linear_transform(value(torch.FloatTensor(self.i2s(ix)))))**2\n",
        "            return 10*out#/mdp.v_size_\n",
        "\n",
        "\n",
        "        print_n = 10\n",
        "        epoch_per_print= int(n_epoch/print_n)\n",
        "        #lr = 1/(2*epoch+1000.)\n",
        "        l = []\n",
        "        start_time = time.time()\n",
        "        for epoch in range(n_epoch):\n",
        "            #ipdb.set_trace()\n",
        "            loss = tot_loss() #forward pass\n",
        "            #backward propogation\n",
        "            # optimizer\n",
        "            optimizer = torch.optim.SGD(value.parameters(), 0.0001, momentum = 0.9) \n",
        "            #optimizer = torch.optim.SGD(value.parameters(), 0.0001, momentum = .8)\n",
        "            optimizer.zero_grad()\n",
        "            loss.backward()\n",
        "            optimizer.step()\n",
        "            l.append(loss.item())\n",
        "            if (epoch+1) % epoch_per_print == 0 or epoch == 0:\n",
        "              print('Epoch [{}/{}], Loss: {:.4f}'.format(\n",
        "                      epoch+1, n_epoch, loss.item()))\n",
        "            if loss.item()<0.0002:\n",
        "                break\n",
        "\n",
        "        plt.plot([i for i in range(499,len(l))],l[499:])\n",
        "        end_time = time.time()\n",
        "        print('>>>time elapsed is: ' + str(end_time - start_time))\n",
        "        return value"
      ],
      "execution_count": 0,
      "outputs": []
    },
    {
      "cell_type": "code",
      "metadata": {
        "id": "yyQeLcfLA6Ry",
        "colab_type": "code",
        "outputId": "21ab0ffd-1796-455a-aaa5-eb05283c7b62",
        "colab": {
          "base_uri": "https://localhost:8080/",
          "height": 1000
        }
      },
      "source": [
        "vi = solver_nn(n_dim=1, n_mesh=8, fd='cfd')\n",
        "value = vi.solver(3000)\n"
      ],
      "execution_count": 20,
      "outputs": [
        {
          "output_type": "stream",
          "text": [
            ">>> n_dim: 1\n",
            ">>> n_mesh: 16\n",
            "Parameter containing:\n",
            "tensor([[ 0.0991],\n",
            "        [ 0.1408],\n",
            "        [ 0.3612],\n",
            "        [-0.3507],\n",
            "        [ 0.1323],\n",
            "        [ 0.3569],\n",
            "        [ 0.2093],\n",
            "        [ 0.5311],\n",
            "        [ 0.5070],\n",
            "        [ 0.4835],\n",
            "        [ 0.0050],\n",
            "        [-0.2087],\n",
            "        [ 0.2244],\n",
            "        [-0.4594],\n",
            "        [ 0.2759],\n",
            "        [ 0.1233],\n",
            "        [ 0.5012],\n",
            "        [ 0.0571]], requires_grad=True) Parameter containing:\n",
            "tensor([0., 0., 0., 0., 0., 0., 0., 0., 0., 0., 0., 0., 0., 0., 0., 0., 0., 0.],\n",
            "       requires_grad=True)\n",
            "Parameter containing:\n",
            "tensor([[-3.9586e-02,  3.5344e-01, -9.5799e-02, -3.8201e-01, -2.8858e-02,\n",
            "         -6.9736e-02,  1.4014e-01,  2.7734e-02, -2.9954e-02,  3.9420e-01,\n",
            "          2.9075e-01, -1.2803e-01, -9.9526e-02,  7.2592e-02, -2.8895e-01,\n",
            "          2.0467e-01,  2.7595e-02, -3.2499e-01],\n",
            "        [-1.7121e-01,  1.8145e-01, -6.9974e-02,  6.8740e-02,  2.6217e-01,\n",
            "          2.5191e-01, -3.6091e-01,  2.1084e-01,  2.4891e-03, -3.2528e-01,\n",
            "          2.7336e-01,  1.1425e-01, -2.9011e-02,  1.7591e-01, -1.8525e-01,\n",
            "          1.7027e-01,  4.0772e-01, -2.3857e-01],\n",
            "        [ 2.6453e-02,  3.9428e-01,  1.2518e-01,  2.0582e-01,  2.7741e-01,\n",
            "         -2.8501e-01,  2.6285e-01,  9.8551e-02,  1.0228e-01,  1.5814e-02,\n",
            "         -2.2282e-01, -1.5810e-01, -3.2801e-01, -1.7344e-01, -1.0642e-01,\n",
            "         -3.1081e-02,  2.2548e-01,  4.0264e-01],\n",
            "        [ 2.2393e-01,  2.3719e-01,  3.8956e-01,  1.2227e-01, -2.7057e-02,\n",
            "          2.9825e-01,  2.1191e-01, -1.7899e-01, -3.9909e-01, -3.2748e-01,\n",
            "          1.6935e-01,  3.5559e-01,  3.4548e-01,  9.8352e-02,  3.2070e-01,\n",
            "         -9.1272e-02,  1.5844e-02, -3.7054e-01],\n",
            "        [ 1.7912e-01,  3.8613e-01, -2.6913e-01,  1.7476e-01,  3.9381e-01,\n",
            "         -1.3569e-01, -3.1405e-01,  2.2788e-01, -3.4154e-01, -2.7420e-01,\n",
            "         -2.1801e-01,  4.8072e-02, -3.9799e-02, -2.2165e-01,  2.4526e-01,\n",
            "         -9.0136e-02,  2.0212e-01,  7.3634e-02],\n",
            "        [ 1.9894e-01,  1.3353e-01, -2.1853e-02, -3.1128e-01, -2.8935e-01,\n",
            "         -1.5040e-01, -2.1019e-01,  2.2916e-01, -2.1640e-01, -6.2090e-02,\n",
            "          1.2651e-01,  2.1674e-01,  1.8070e-01,  3.8401e-01, -2.4831e-02,\n",
            "         -2.2652e-01,  7.6007e-02,  5.6845e-02],\n",
            "        [-1.7907e-01, -1.0003e-01, -6.0770e-02,  1.0374e-01, -2.1759e-01,\n",
            "         -3.3849e-01,  3.3735e-01, -3.8430e-01, -1.5090e-01, -3.6834e-01,\n",
            "         -3.1886e-01,  1.7001e-01, -6.1084e-02,  2.5940e-01, -2.2291e-01,\n",
            "          3.3421e-01,  1.2601e-01,  2.2422e-01],\n",
            "        [-3.0429e-01, -1.0735e-01, -3.3197e-02, -3.3620e-01,  9.5655e-02,\n",
            "          1.2998e-01, -1.0508e-01,  3.0573e-01,  2.2410e-01,  6.1992e-02,\n",
            "          5.9495e-02, -1.9481e-02, -3.8972e-01,  2.5274e-01, -1.7785e-02,\n",
            "         -2.9458e-01, -3.5271e-01, -1.4216e-01],\n",
            "        [-1.0409e-01, -1.4366e-01, -3.4364e-01,  1.2847e-01, -6.7596e-02,\n",
            "          2.2339e-01,  3.0509e-01, -3.7969e-01, -3.0512e-01,  2.8416e-02,\n",
            "         -1.7104e-01,  2.2139e-01, -2.9849e-01, -3.8208e-01, -2.8845e-01,\n",
            "         -1.7085e-01, -9.6303e-02, -2.8993e-01],\n",
            "        [ 3.4554e-01,  3.0876e-01,  1.4604e-01,  1.1548e-01,  4.1654e-02,\n",
            "          2.2523e-01,  3.1122e-01, -1.6811e-01,  6.4165e-02,  3.3330e-01,\n",
            "          3.3854e-01, -3.2796e-01, -2.0284e-01, -6.2425e-02, -1.1257e-01,\n",
            "         -2.3669e-01,  3.8719e-01,  3.0229e-01],\n",
            "        [ 3.8594e-01,  3.0609e-01,  2.6050e-01,  2.1941e-01, -1.8389e-01,\n",
            "         -2.2980e-01, -4.9697e-02,  2.1379e-01, -2.9653e-01,  1.0964e-01,\n",
            "         -3.3761e-02, -1.2710e-01,  2.5762e-01,  3.1284e-01,  8.4085e-02,\n",
            "         -5.8502e-02,  1.9640e-01,  3.2291e-01],\n",
            "        [-3.5952e-01,  3.6167e-01,  3.8214e-01,  1.0259e-01,  1.5104e-01,\n",
            "          3.3414e-01, -3.9602e-01,  2.7226e-01, -4.5189e-03, -4.2400e-02,\n",
            "          3.9299e-01,  1.8931e-01,  2.2211e-02,  3.1146e-02,  6.6891e-02,\n",
            "          3.7234e-01, -8.8339e-02,  4.0704e-01],\n",
            "        [-1.2419e-04, -4.0720e-01, -3.9632e-01, -3.7408e-01,  1.6984e-01,\n",
            "          4.0415e-01, -1.5541e-01,  2.2742e-01, -3.8088e-01,  3.6646e-02,\n",
            "          1.1209e-02,  2.6152e-01,  2.3174e-01,  2.8019e-01, -2.7586e-01,\n",
            "         -5.1371e-02,  1.4826e-01,  9.4787e-02],\n",
            "        [-9.5467e-02,  1.7553e-02,  2.2596e-01,  7.4883e-02, -1.7387e-01,\n",
            "          1.5426e-01,  1.5740e-01,  1.2956e-01,  2.2873e-02,  1.6424e-01,\n",
            "         -2.0867e-01, -3.7001e-01, -1.0463e-01,  1.4862e-01, -2.1251e-01,\n",
            "          3.2134e-01, -3.0073e-01,  3.3800e-01],\n",
            "        [-6.5470e-02, -3.5538e-02, -9.7029e-02,  2.0325e-01, -1.3923e-01,\n",
            "         -5.9402e-04,  1.2664e-01, -1.6501e-01, -2.0446e-01,  2.3660e-01,\n",
            "         -3.1177e-01, -8.0323e-02,  8.8697e-02, -1.8689e-01, -1.1325e-01,\n",
            "         -1.9660e-01,  1.7529e-01, -3.5432e-01],\n",
            "        [-5.5629e-02,  3.4705e-01,  9.3826e-02,  4.7302e-02, -2.0913e-01,\n",
            "          7.9385e-02,  3.3816e-01,  6.3670e-02,  1.7561e-01, -1.6895e-01,\n",
            "          1.9761e-01, -2.8548e-01, -1.8997e-01, -2.2152e-01,  3.1631e-01,\n",
            "          6.6068e-03,  1.2135e-01,  9.3143e-02],\n",
            "        [-3.5160e-01, -1.8480e-01, -3.2033e-02, -2.2516e-03,  2.5542e-01,\n",
            "         -3.7421e-01, -4.0715e-01,  1.1729e-01,  2.3962e-01,  3.6468e-02,\n",
            "         -1.5439e-02,  2.3589e-01, -9.2251e-02, -6.6312e-02,  3.5291e-01,\n",
            "          3.4739e-01,  3.8580e-01,  3.2094e-01],\n",
            "        [-3.9731e-01,  6.0824e-02,  3.1901e-01, -3.9979e-01,  4.0126e-01,\n",
            "          1.4781e-01,  2.2586e-01,  4.8267e-02,  3.3643e-01,  2.8024e-01,\n",
            "          3.7237e-01, -4.2530e-02, -3.2936e-01,  1.1782e-01,  3.9858e-01,\n",
            "          2.2413e-01, -2.0179e-01,  4.8052e-02]], requires_grad=True) Parameter containing:\n",
            "tensor([0., 0., 0., 0., 0., 0., 0., 0., 0., 0., 0., 0., 0., 0., 0., 0., 0., 0.],\n",
            "       requires_grad=True)\n",
            "Parameter containing:\n",
            "tensor([[ 0.5044, -0.4445, -0.2831, -0.5044, -0.4783, -0.4335,  0.1028,  0.2691,\n",
            "         -0.0763,  0.4974, -0.3956,  0.2359, -0.4325, -0.4835,  0.4991, -0.5335,\n",
            "          0.0376, -0.1025]], requires_grad=True) Parameter containing:\n",
            "tensor([0.], requires_grad=True)\n",
            "Sequential(\n",
            "  (0): Linear(in_features=1, out_features=18, bias=True)\n",
            "  (1): ReLU()\n",
            "  (2): Linear(in_features=18, out_features=18, bias=True)\n",
            "  (3): ReLU()\n",
            "  (4): Linear(in_features=18, out_features=1, bias=True)\n",
            ")\n",
            "Epoch [1/3000], Loss: 26.4317\n",
            "Epoch [300/3000], Loss: 1.9463\n",
            "Epoch [600/3000], Loss: 0.7521\n",
            "Epoch [900/3000], Loss: 0.3902\n",
            "Epoch [1200/3000], Loss: 0.2321\n",
            "Epoch [1500/3000], Loss: 0.1583\n",
            "Epoch [1800/3000], Loss: 0.1155\n",
            "Epoch [2100/3000], Loss: 0.0886\n",
            "Epoch [2400/3000], Loss: 0.0704\n",
            "Epoch [2700/3000], Loss: 0.0565\n",
            "Epoch [3000/3000], Loss: 0.0467\n",
            ">>>time elapsed is: 17.777540683746338\n"
          ],
          "name": "stdout"
        },
        {
          "output_type": "display_data",
          "data": {
            "image/png": "[encoded data removed]",
            "text/plain": [
              "<Figure size 432x288 with 1 Axes>"
            ]
          },
          "metadata": {
            "tags": []
          }
        }
      ]
    },
    {
      "cell_type": "code",
      "metadata": {
        "id": "x9AiFc4mU27m",
        "colab_type": "code",
        "colab": {}
      },
      "source": [
        "import matplotlib.pyplot as plt\n",
        "from mpl_toolkits.mplot3d import Axes3D"
      ],
      "execution_count": 0,
      "outputs": []
    },
    {
      "cell_type": "code",
      "metadata": {
        "id": "WYXtfNq6TljM",
        "colab_type": "code",
        "outputId": "8a6bed8f-4e66-412d-8380-2806c9d5dc29",
        "colab": {
          "base_uri": "https://localhost:8080/",
          "height": 282
        }
      },
      "source": [
        "x = []\n",
        "y = []\n",
        "y1 = []\n",
        "for ix_s in deep_iter(*vi.v_shape):\n",
        "    s1 = vi.i2s(ix_s)\n",
        "    x.append(s1)\n",
        "    #v1 = v[ix_s]\n",
        "    #v1 =vi.transform_back(value(torch.FloatTensor(s1)).item())\n",
        "    v1 = value(torch.FloatTensor(s1)).item()\n",
        "    v2 = vi.term_cost(s1)\n",
        "    y.append(v1)\n",
        "    y1.append(v2)\n",
        "plt.plot(x,y)\n",
        "plt.plot(x,y1)"
      ],
      "execution_count": 22,
      "outputs": [
        {
          "output_type": "execute_result",
          "data": {
            "text/plain": [
              "[<matplotlib.lines.Line2D at 0x7fc2e1d4f630>]"
            ]
          },
          "metadata": {
            "tags": []
          },
          "execution_count": 22
        },
        {
          "output_type": "display_data",
          "data": {
            "image/png": "[encoded data removed]",
            "text/plain": [
              "<Figure size 432x288 with 1 Axes>"
            ]
          },
          "metadata": {
            "tags": []
          }
        }
      ]
    },
    {
      "cell_type": "code",
      "metadata": {
        "id": "dhRSdHHI1xLK",
        "colab_type": "code",
        "outputId": "20413c7f-ce00-42a2-8702-b819ffb3bfac",
        "colab": {
          "base_uri": "https://localhost:8080/",
          "height": 34
        }
      },
      "source": [
        "print('>>>sup norm error is: ' + str(np.max(abs(np.array(y)-np.array(y1)))))"
      ],
      "execution_count": 23,
      "outputs": [
        {
          "output_type": "stream",
          "text": [
            ">>>sup norm error is: 0.0442233681678772\n"
          ],
          "name": "stdout"
        }
      ]
    },
    {
      "cell_type": "code",
      "metadata": {
        "id": "hnD0dK58MNze",
        "colab_type": "code",
        "outputId": "c3581a1a-c313-40f7-909e-eb567f6bd67b",
        "colab": {
          "base_uri": "https://localhost:8080/",
          "height": 297
        }
      },
      "source": [
        "losss = []\n",
        "for ix in deep_iter(*vi.v_shape):\n",
        "  if vi.is_interior(ix):\n",
        "    loss = abs(vi.bellman(ix,value))\n",
        "  else:\n",
        "    loss = abs(vi.linear_transform(vi.term_cost(vi.i2s(ix))) - vi.linear_transform(value(torch.FloatTensor(vi.i2s(ix)))))\n",
        "  losss.append(loss.item())\n",
        "plt.scatter(x,losss)\n",
        "plt.xlabel('x')\n",
        "plt.ylabel('Loss')"
      ],
      "execution_count": 27,
      "outputs": [
        {
          "output_type": "execute_result",
          "data": {
            "text/plain": [
              "Text(0, 0.5, 'Loss')"
            ]
          },
          "metadata": {
            "tags": []
          },
          "execution_count": 27
        },
        {
          "output_type": "display_data",
          "data": {
            "image/png": "[encoded data removed]",
            "text/plain": [
              "<Figure size 432x288 with 1 Axes>"
            ]
          },
          "metadata": {
            "tags": []
          }
        }
      ]
    }
  ]
}